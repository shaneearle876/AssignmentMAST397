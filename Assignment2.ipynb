{
 "cells": [
  {
   "cell_type": "code",
   "execution_count": 2,
   "id": "69333309",
   "metadata": {},
   "outputs": [
    {
     "name": "stderr",
     "output_type": "stream",
     "text": [
      "Matplotlib is building the font cache; this may take a moment.\n"
     ]
    }
   ],
   "source": [
    "import pandas as pd\n",
    "import numpy as np\n",
    "import matplotlib.pyplot as plt\n",
    "import matplotlib.patches as patches\n"
   ]
  },
  {
   "cell_type": "code",
   "execution_count": 3,
   "id": "19cdb151",
   "metadata": {},
   "outputs": [],
   "source": [
    "from matplotlib.patches import Rectangle"
   ]
  },
  {
   "cell_type": "code",
   "execution_count": 37,
   "id": "cea4ed1e",
   "metadata": {},
   "outputs": [
    {
     "data": {
      "image/png": "[encoded data removed]",
      "text/plain": [
       "<Figure size 1200x600 with 1 Axes>"
      ]
     },
     "metadata": {},
     "output_type": "display_data"
    }
   ],
   "source": [
    "def tennis_court(ax=None, color='white', lw=2):\n",
    "    if ax is None:\n",
    "        fig, ax = plt.subplots(figsize=(12, 6)) # Create a new figure and axis if none is provided\n",
    "        fig.patch.set_facecolor('darkolivegreen') #Background color\n",
    "\n",
    "        #Court surface\n",
    "        floor = Rectangle((0, 0), 78, 36, linewidth=lw, color='darkolivegreen', fill=True)\n",
    "        ax.add_patch(floor)\n",
    "\n",
    "        #Out of bounds lines\n",
    "        out_lines = Rectangle((0,0), 78, 36, linewidth=5, edgecolor=color, fill=False)\n",
    "        ax.add_patch(out_lines)\n",
    "\n",
    "        #Net Line\n",
    "        ax.plot([78/2, 78/2], [0, 36], color=color, linewidth=lw)\n",
    "\n",
    "        #Right service line\n",
    "        ax.plot([0,0.75], [36/2, 36/2], color=color, linewidth=lw)\n",
    "\n",
    "        #Left service line\n",
    "        ax.plot([77.25,78], [36/2, 36/2], color=color, linewidth=lw)\n",
    "\n",
    "        #Doubles Lines\n",
    "        doubles_lines = Rectangle((0,4.5), 78, 27, linewidth=lw, edgecolor=color, fill=False)\n",
    "        ax.add_patch(doubles_lines)\n",
    "\n",
    "        #Service Boxes\n",
    "        service_boxes = Rectangle((18, 4.5), 42, 27, linewidth=lw, edgecolor=color, fill=False)\n",
    "        ax.add_patch(service_boxes)\n",
    "\n",
    "        #Center Service Line\n",
    "        ax.plot([18, 60], [36/2, 36/2], color=color, linewidth=lw)\n",
    "\n",
    "        #Set limits\n",
    "        ax.set_xlim(0,78)\n",
    "        ax.set_ylim(0, 36)\n",
    "        ax.set_aspect('equal', adjustable ='box')\n",
    "        ax.axis('off')\n",
    "        return ax\n",
    "\n",
    "ax = tennis_court()\n",
    "plt.show()\n"
   ]
  },
  {
   "cell_type": "code",
   "execution_count": null,
   "id": "152b47c5",
   "metadata": {},
   "outputs": [],
   "source": []
  }
 ],
 "metadata": {
  "kernelspec": {
   "display_name": "Python 3",
   "language": "python",
   "name": "python3"
  },
  "language_info": {
   "codemirror_mode": {
    "name": "ipython",
    "version": 3
   },
   "file_extension": ".py",
   "mimetype": "text/x-python",
   "name": "python",
   "nbconvert_exporter": "python",
   "pygments_lexer": "ipython3",
   "version": "3.13.7"
  }
 },
 "nbformat": 4,
 "nbformat_minor": 5
}
